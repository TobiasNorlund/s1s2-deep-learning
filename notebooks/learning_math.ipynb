{
 "cells": [
  {
   "cell_type": "code",
   "execution_count": 1,
   "metadata": {},
   "outputs": [],
   "source": [
    "import itertools\n",
    "import random\n",
    "import re\n",
    "\n",
    "import tensorflow as tf\n",
    "from tensorflow.keras import layers, optimizers, losses, metrics, models\n",
    "import transformers\n",
    "import matplotlib.pyplot as plt\n",
    "import numpy as np"
   ]
  },
  {
   "cell_type": "code",
   "execution_count": 2,
   "metadata": {},
   "outputs": [
    {
     "data": {
      "text/plain": [
       "['0',\n",
       " '1',\n",
       " '2',\n",
       " '3',\n",
       " '4',\n",
       " '5',\n",
       " '6',\n",
       " '7',\n",
       " '8',\n",
       " '9',\n",
       " '+',\n",
       " '=',\n",
       " 'Q',\n",
       " 'E',\n",
       " 'F',\n",
       " '!']"
      ]
     },
     "execution_count": 2,
     "metadata": {},
     "output_type": "execute_result"
    }
   ],
   "source": [
    "VOCABULARY = [str(d) for d in range(10)] + ['+', '=', 'Q', 'E', 'F', '!']\n",
    "VOCABULARY"
   ]
  },
  {
   "cell_type": "code",
   "execution_count": 3,
   "metadata": {},
   "outputs": [
    {
     "data": {
      "text/plain": [
       "'97+53Q0+7+3E10Q1+9+5E15F150!'"
      ]
     },
     "execution_count": 3,
     "metadata": {},
     "output_type": "execute_result"
    }
   ],
   "source": [
    "def data(n_samples, max_n_digits, seed, min_n_digits=1):\n",
    "    random.seed(seed)\n",
    "    already_generated = set()\n",
    "    \n",
    "    while True:\n",
    "        if len(already_generated) >= n_samples:\n",
    "            break\n",
    "        \n",
    "        n_digits = random.randint(min_n_digits, max_n_digits)\n",
    "        \n",
    "        a = random.randint(0, 10 ** n_digits - 1)\n",
    "        b = random.randint(0, 10 ** n_digits - 1)\n",
    "        \n",
    "        if (a, b) in already_generated:\n",
    "            continue\n",
    "        \n",
    "        already_generated.add((a, b))\n",
    "        \n",
    "        problem = f'{a:0{n_digits}d}+{b:0{n_digits}d}'\n",
    "\n",
    "        carry = 0\n",
    "        \n",
    "        for significance in range(n_digits):\n",
    "            a_digit = (a // 10 ** significance) % 10\n",
    "            b_digit = (b // 10 ** significance) % 10\n",
    "            result = a_digit + b_digit + carry\n",
    "            result_digit = result % 10\n",
    "            result_carry = result // 10\n",
    "            problem += f'Q{carry}+{a_digit}+{b_digit}E{result_carry}{result_digit}'\n",
    "            carry = result_carry\n",
    "        \n",
    "        problem += f'F{a+b}!'\n",
    "        \n",
    "        yield problem\n",
    "\n",
    "next(data(100, 3, 0))"
   ]
  },
  {
   "cell_type": "code",
   "execution_count": 4,
   "metadata": {},
   "outputs": [],
   "source": [
    "def tokenize(s):\n",
    "    s = list(s)\n",
    "    return np.array([VOCABULARY.index(c) for c in s], dtype=np.int32)\n",
    "\n",
    "def detokenize(arr):\n",
    "    return ''.join([VOCABULARY[x] for x in arr])"
   ]
  },
  {
   "cell_type": "code",
   "execution_count": 5,
   "metadata": {},
   "outputs": [
    {
     "data": {
      "text/plain": [
       "'08'"
      ]
     },
     "execution_count": 5,
     "metadata": {},
     "output_type": "execute_result"
    }
   ],
   "source": [
    "def system_1(s):\n",
    "    return f'{eval(s):02d}'\n",
    "\n",
    "system_1('7+1+0')"
   ]
  },
  {
   "cell_type": "code",
   "execution_count": 6,
   "metadata": {},
   "outputs": [],
   "source": [
    "def data_generator(dataset):\n",
    "    for example in dataset:\n",
    "        idxs = [(m.start(0), m.end(0))\n",
    "                for m in re.finditer('Q.\\+.\\+.E|F.*!', example[1:])]\n",
    "        \n",
    "        tokens = tokenize(example)\n",
    "        inputs = tokens[:-1]\n",
    "        targets = tokens[1:]\n",
    "        \n",
    "        mask = np.array([0] * len(targets))\n",
    "        for s, e in idxs:\n",
    "            mask[s:e] = 1\n",
    "        \n",
    "        yield inputs, targets, mask"
   ]
  },
  {
   "cell_type": "code",
   "execution_count": 35,
   "metadata": {},
   "outputs": [],
   "source": [
    "def decode(model, a, b):\n",
    "    n_digits = max(len(str(a)), len(str(b)))\n",
    "    ex = f\"{a:0{n_digits}d}+{b:0{n_digits}d}\"\n",
    "    tokenized = tokenize(ex).astype(np.int32)\n",
    "    \n",
    "    while True:\n",
    "        while not tokenized[-1] in (VOCABULARY.index('E'), VOCABULARY.index('!')):\n",
    "            pred = model(tokenized[np.newaxis, ...])\n",
    "            pred = pred.numpy()\n",
    "            next_token = np.argmax(pred, axis=-1)[0, -1].astype(np.int32)\n",
    "            tokenized = np.append(tokenized, next_token)\n",
    "\n",
    "        if tokenized[-1] == VOCABULARY.index('E'):\n",
    "            # Call system 1\n",
    "            query = detokenize(tokenized)[-6:-1]\n",
    "            ans = system_1(query)\n",
    "            tokenized_ans = tokenize(ans)\n",
    "            tokenized = np.append(tokenized, tokenized_ans)\n",
    "\n",
    "        elif tokenized[-1] == VOCABULARY.index('!'):\n",
    "            break\n",
    "\n",
    "    return detokenize(tokenized)"
   ]
  },
  {
   "cell_type": "code",
   "execution_count": 18,
   "metadata": {},
   "outputs": [],
   "source": [
    "def evaluate(model, test_dataset):\n",
    "    n_correct = 0\n",
    "    for example in test_dataset:\n",
    "        i = example.index('Q')\n",
    "        ab = example[:i]\n",
    "        i = ab.index('+')\n",
    "        a = int(ab[:i])\n",
    "        b = int(ab[i:])\n",
    "\n",
    "        try:\n",
    "            ans = decode(model, a, b)\n",
    "            i = ans.index('F')\n",
    "            ans = ans[i+1:-1]\n",
    "            ans = int(ans)\n",
    "\n",
    "            if ans == a + b:\n",
    "                n_correct += 1\n",
    "        except ValueError as err:\n",
    "            print(\"Eval error:\", err)\n",
    "\n",
    "    return n_correct / len(test_dataset)"
   ]
  },
  {
   "cell_type": "code",
   "execution_count": 9,
   "metadata": {},
   "outputs": [],
   "source": [
    "def build_model(vocab_size):\n",
    "    inputs = layers.Input((None,), dtype=tf.int32)\n",
    "    x = inputs\n",
    "    x = layers.Embedding(vocab_size, 64)(x)\n",
    "    x = layers.LSTM(128, return_sequences=True)(x)\n",
    "    x = layers.Dense(vocab_size, activation='softmax')(x)\n",
    "    model = models.Model(inputs, x)\n",
    "    \n",
    "    return model"
   ]
  },
  {
   "cell_type": "code",
   "execution_count": 10,
   "metadata": {},
   "outputs": [],
   "source": [
    "def build_attention_model(vocab_size):\n",
    "    inputs = layers.Input((None,), dtype=tf.int32)\n",
    "    x = inputs\n",
    "    x = layers.Embedding(vocab_size, 64)(x)\n",
    "    x = layers.LSTM(128, return_sequences=True)(x)\n",
    "    \n",
    "    # Attention mechanism.\n",
    "    seq_len = tf.shape(x)[1]\n",
    "    keys = layers.Dense(128)(x)\n",
    "    look_ahead_mask = (1 - tf.linalg.band_part(tf.ones((seq_len, seq_len)), -1, 0)) * -1e9\n",
    "    look_ahead_mask = look_ahead_mask[tf.newaxis, ...]\n",
    "    attention_scores = x @ tf.transpose(keys, [0, 2, 1])\n",
    "    attention_scores = attention_scores + look_ahead_mask\n",
    "    attention_weights = tf.nn.softmax(attention_scores, name=\"attention_weights\")\n",
    "    x_att = attention_weights @ x\n",
    "    x = layers.Concatenate()([x, x_att])\n",
    "    \n",
    "    x = layers.Dense(vocab_size, activation='softmax')(x)\n",
    "    model = models.Model(inputs, x)\n",
    "    \n",
    "    return model"
   ]
  },
  {
   "cell_type": "code",
   "execution_count": 11,
   "metadata": {},
   "outputs": [],
   "source": [
    "def build_copy_model(vocab_size):\n",
    "    inputs = layers.Input((None,), dtype=tf.int32)\n",
    "    x = inputs\n",
    "    x = layers.Embedding(vocab_size, 64)(x)\n",
    "    x = layers.LSTM(128, return_sequences=True)(x)\n",
    "    \n",
    "    batch_size = tf.shape(x)[0]\n",
    "    seq_len = tf.shape(x)[1]\n",
    "    keys = layers.Dense(128)(x)\n",
    "    look_ahead_mask = (1 - tf.linalg.band_part(tf.ones((seq_len, seq_len)), -1, 0)) * -1e9\n",
    "    look_ahead_mask = look_ahead_mask[tf.newaxis, ...]\n",
    "    attention_scores = x @ tf.transpose(keys, [0, 2, 1])\n",
    "    attention_scores = attention_scores + look_ahead_mask\n",
    "    attention_weights = tf.nn.softmax(attention_scores, name=\"attention_weights\")\n",
    "    x_att = attention_weights @ x\n",
    "    x = layers.Concatenate()([x, x_att])\n",
    "    \n",
    "    # Generative distribution.\n",
    "    gen_dist = layers.Dense(vocab_size, activation='softmax')(x)\n",
    "    \n",
    "    # Copy mechanism based distribution.\n",
    "    indices = tf.range(batch_size, dtype=tf.int32)[:, tf.newaxis]  # (bs, 1)\n",
    "    indices = tf.tile(indices, [1, seq_len])  # (bs, seq_len)\n",
    "    indices = tf.stack((indices, inputs), axis=2)\n",
    "    #indices = tf.transpose(indices, perm=[1, 2, 0])  # (bs, seq_len, 2)\n",
    "    updates = tf.transpose(attention_weights, perm=[0, 2, 1])\n",
    "    output_shape = [batch_size, vocab_size, seq_len]\n",
    "    copy_dist = tf.scatter_nd(indices, updates, output_shape)\n",
    "    copy_dist = tf.transpose(copy_dist, [0, 2, 1])\n",
    "    \n",
    "    # Combine distributions.\n",
    "    p_gen_pre_logit = layers.Concatenate()([x_att, keys])\n",
    "    p_gen = layers.Dense(1, activation=\"sigmoid\")(p_gen_pre_logit)\n",
    "    dist = p_gen * gen_dist + (1 - p_gen) * copy_dist \n",
    "    \n",
    "    model = models.Model(inputs, dist)\n",
    "    \n",
    "    return model"
   ]
  },
  {
   "cell_type": "code",
   "execution_count": 39,
   "metadata": {
    "scrolled": false
   },
   "outputs": [],
   "source": [
    "def run_experiment(train_dataset, test_dataset, model_type):\n",
    "    tf.keras.backend.clear_session()\n",
    "    \n",
    "    vocab_size = len(VOCABULARY)\n",
    "    if model_type == \"baseline\":\n",
    "        model = build_model(vocab_size)\n",
    "    elif model_type == \"attention\":\n",
    "        model = build_attention_model(vocab_size)\n",
    "    elif model_type == \"copy\":\n",
    "        model = build_copy_model(vocab_size)\n",
    "    else:\n",
    "        raise Exception(\"Invalid model.\")\n",
    "\n",
    "    optimizer = optimizers.Adam(1e-3)\n",
    "\n",
    "    model.build(input_shape=(None, None))\n",
    "    model.summary()\n",
    "\n",
    "    train_ds = tf.data.Dataset.from_generator(\n",
    "        lambda: data_generator(train_dataset),\n",
    "        output_types=(tf.int32, tf.int32, tf.int32),\n",
    "        output_shapes=(\n",
    "            tf.TensorShape((None,)), \n",
    "            tf.TensorShape((None,)), \n",
    "            tf.TensorShape((None,))\n",
    "        ))\n",
    "    train_ds = train_ds.shuffle(10000)\n",
    "    train_ds = train_ds.padded_batch(64, padded_shapes=([None], [None], [None]))\n",
    "\n",
    "    accuracy = tf.keras.metrics.SparseCategoricalAccuracy()\n",
    "\n",
    "    @tf.function\n",
    "    def train_step(inputs, targets, mask):\n",
    "        with tf.GradientTape() as tape:\n",
    "            outputs = model(inputs)\n",
    "            loss = tf.losses.sparse_categorical_crossentropy(targets, outputs)\n",
    "            loss = tf.boolean_mask(loss, tf.cast(mask, tf.bool))\n",
    "            loss = tf.reduce_mean(loss)\n",
    "\n",
    "            masked_outputs = tf.boolean_mask(outputs, tf.cast(mask, tf.bool))\n",
    "            accuracy(targets, outputs, sample_weight=mask)\n",
    "\n",
    "        gradients = tape.gradient(loss, model.trainable_variables)\n",
    "        optimizer.apply_gradients(zip(gradients, model.trainable_variables))\n",
    "\n",
    "        return loss\n",
    "\n",
    "    accuracy_history = []\n",
    "    stop_criteria_last_n = 3\n",
    "    \n",
    "    for i, (inputs, targets, mask) in train_ds.repeat(None).take(4000).enumerate():\n",
    "        accuracy.reset_states()\n",
    "        loss = train_step(inputs, targets, mask)\n",
    "        if i % 100 == 0 and i > 0:\n",
    "            print(\n",
    "                'Step', i.numpy(),\n",
    "                'Loss', loss.numpy(),\n",
    "                'Acc', accuracy.result().numpy())\n",
    "            accuracy_history.append(accuracy.result().numpy())\n",
    "            if len(accuracy_history) > stop_criteria_last_n:\n",
    "                accuracy_history = accuracy_history[1:]\n",
    "            if sum(accuracy_history) >= 1.0 * stop_criteria_last_n - 0.001:\n",
    "                break\n",
    "    \n",
    "    accuracy = evaluate(model, test_dataset)\n",
    "    \n",
    "    return accuracy, model"
   ]
  },
  {
   "cell_type": "markdown",
   "metadata": {},
   "source": [
    "## Baseline"
   ]
  },
  {
   "cell_type": "code",
   "execution_count": null,
   "metadata": {
    "scrolled": false
   },
   "outputs": [],
   "source": [
    "dataset = data(\n",
    "    n_samples=5000,\n",
    "    max_n_digits=2,\n",
    "    seed=0)\n",
    "dataset = list(dataset)\n",
    "\n",
    "test_dataset = dataset[-300:]\n",
    "\n",
    "n_train_sizes = [100, 500, 1000, 2000]\n",
    "accuracies = []\n",
    "for n_train in n_train_sizes:\n",
    "    train_dataset = dataset[:n_train]\n",
    "    accuracy, _ = run_experiment(train_dataset, test_dataset, model_type=\"baseline\")\n",
    "    accuracies.append(accuracy)\n",
    "    \n",
    "plt.plot(n_train_sizes, accuracies)\n",
    "plt.show()"
   ]
  },
  {
   "cell_type": "code",
   "execution_count": null,
   "metadata": {},
   "outputs": [],
   "source": [
    "accuracies"
   ]
  },
  {
   "cell_type": "markdown",
   "metadata": {},
   "source": [
    "## Baseline + self attention"
   ]
  },
  {
   "cell_type": "code",
   "execution_count": null,
   "metadata": {
    "scrolled": false
   },
   "outputs": [],
   "source": [
    "dataset = data(\n",
    "    n_samples=5000,\n",
    "    max_n_digits=2,\n",
    "    seed=0)\n",
    "dataset = list(dataset)\n",
    "\n",
    "test_dataset = dataset[-300:]\n",
    "\n",
    "n_train_sizes = [100, 500, 1000, 2000]\n",
    "accuracies = []\n",
    "for n_train in n_train_sizes:\n",
    "    train_dataset = dataset[:n_train]\n",
    "    accuracy, _ = run_experiment(train_dataset, test_dataset, model_type=\"attention\")\n",
    "    accuracies.append(accuracy)\n",
    "    \n",
    "plt.plot(n_train_sizes, accuracies)\n",
    "plt.show()"
   ]
  },
  {
   "cell_type": "code",
   "execution_count": null,
   "metadata": {},
   "outputs": [],
   "source": [
    "accuracies"
   ]
  },
  {
   "cell_type": "markdown",
   "metadata": {},
   "source": [
    "## Baseline + self attention + copy mechanism"
   ]
  },
  {
   "cell_type": "code",
   "execution_count": 17,
   "metadata": {
    "scrolled": false
   },
   "outputs": [
    {
     "name": "stdout",
     "output_type": "stream",
     "text": [
      "Model: \"model\"\n",
      "__________________________________________________________________________________________________\n",
      "Layer (type)                    Output Shape         Param #     Connected to                     \n",
      "==================================================================================================\n",
      "input_1 (InputLayer)            [(None, None)]       0                                            \n",
      "__________________________________________________________________________________________________\n",
      "embedding (Embedding)           (None, None, 64)     1024        input_1[0][0]                    \n",
      "__________________________________________________________________________________________________\n",
      "lstm (LSTM)                     (None, None, 128)    98816       embedding[0][0]                  \n",
      "__________________________________________________________________________________________________\n",
      "tf_op_layer_Shape_1 (TensorFlow [(3,)]               0           lstm[0][0]                       \n",
      "__________________________________________________________________________________________________\n",
      "tf_op_layer_strided_slice_1 (Te [()]                 0           tf_op_layer_Shape_1[0][0]        \n",
      "__________________________________________________________________________________________________\n",
      "tf_op_layer_packed (TensorFlowO [(2,)]               0           tf_op_layer_strided_slice_1[0][0]\n",
      "                                                                 tf_op_layer_strided_slice_1[0][0]\n",
      "__________________________________________________________________________________________________\n",
      "tf_op_layer_ones (TensorFlowOpL [(None, None)]       0           tf_op_layer_packed[0][0]         \n",
      "__________________________________________________________________________________________________\n",
      "tf_op_layer_MatrixBandPart (Ten [(None, None)]       0           tf_op_layer_ones[0][0]           \n",
      "__________________________________________________________________________________________________\n",
      "dense (Dense)                   (None, None, 128)    16512       lstm[0][0]                       \n",
      "__________________________________________________________________________________________________\n",
      "tf_op_layer_sub (TensorFlowOpLa [(None, None)]       0           tf_op_layer_MatrixBandPart[0][0] \n",
      "__________________________________________________________________________________________________\n",
      "tf_op_layer_transpose (TensorFl [(None, 128, None)]  0           dense[0][0]                      \n",
      "__________________________________________________________________________________________________\n",
      "tf_op_layer_mul_1 (TensorFlowOp [(None, None)]       0           tf_op_layer_sub[0][0]            \n",
      "__________________________________________________________________________________________________\n",
      "tf_op_layer_Shape (TensorFlowOp [(3,)]               0           lstm[0][0]                       \n",
      "__________________________________________________________________________________________________\n",
      "tf_op_layer_matmul (TensorFlowO [(None, None, None)] 0           lstm[0][0]                       \n",
      "                                                                 tf_op_layer_transpose[0][0]      \n",
      "__________________________________________________________________________________________________\n",
      "tf_op_layer_strided_slice_2 (Te [(1, None, None)]    0           tf_op_layer_mul_1[0][0]          \n",
      "__________________________________________________________________________________________________\n",
      "tf_op_layer_strided_slice (Tens [()]                 0           tf_op_layer_Shape[0][0]          \n",
      "__________________________________________________________________________________________________\n",
      "tf_op_layer_add (TensorFlowOpLa [(None, None, None)] 0           tf_op_layer_matmul[0][0]         \n",
      "                                                                 tf_op_layer_strided_slice_2[0][0]\n",
      "__________________________________________________________________________________________________\n",
      "tf_op_layer_range (TensorFlowOp [(None,)]            0           tf_op_layer_strided_slice[0][0]  \n",
      "__________________________________________________________________________________________________\n",
      "tf_op_layer_attention_weights ( [(None, None, None)] 0           tf_op_layer_add[0][0]            \n",
      "__________________________________________________________________________________________________\n",
      "tf_op_layer_strided_slice_3 (Te [(None, 1)]          0           tf_op_layer_range[0][0]          \n",
      "__________________________________________________________________________________________________\n",
      "tf_op_layer_Tile/multiples (Ten [(2,)]               0           tf_op_layer_strided_slice_1[0][0]\n",
      "__________________________________________________________________________________________________\n",
      "tf_op_layer_matmul_1 (TensorFlo [(None, None, 128)]  0           tf_op_layer_attention_weights[0][\n",
      "                                                                 lstm[0][0]                       \n",
      "__________________________________________________________________________________________________\n",
      "tf_op_layer_Tile (TensorFlowOpL [(None, None)]       0           tf_op_layer_strided_slice_3[0][0]\n",
      "                                                                 tf_op_layer_Tile/multiples[0][0] \n",
      "__________________________________________________________________________________________________\n",
      "concatenate_1 (Concatenate)     (None, None, 256)    0           tf_op_layer_matmul_1[0][0]       \n",
      "                                                                 dense[0][0]                      \n",
      "__________________________________________________________________________________________________\n",
      "tf_op_layer_stack (TensorFlowOp [(None, None, 2)]    0           tf_op_layer_Tile[0][0]           \n",
      "                                                                 input_1[0][0]                    \n",
      "__________________________________________________________________________________________________\n",
      "tf_op_layer_transpose_1 (Tensor [(None, None, None)] 0           tf_op_layer_attention_weights[0][\n",
      "__________________________________________________________________________________________________\n",
      "tf_op_layer_ScatterNd/shape (Te [(3,)]               0           tf_op_layer_strided_slice[0][0]  \n",
      "                                                                 tf_op_layer_strided_slice_1[0][0]\n",
      "__________________________________________________________________________________________________\n",
      "dense_2 (Dense)                 (None, None, 1)      257         concatenate_1[0][0]              \n",
      "__________________________________________________________________________________________________\n",
      "concatenate (Concatenate)       (None, None, 256)    0           lstm[0][0]                       \n",
      "                                                                 tf_op_layer_matmul_1[0][0]       \n",
      "__________________________________________________________________________________________________\n",
      "tf_op_layer_ScatterNd (TensorFl [(None, 16, None)]   0           tf_op_layer_stack[0][0]          \n",
      "                                                                 tf_op_layer_transpose_1[0][0]    \n",
      "                                                                 tf_op_layer_ScatterNd/shape[0][0]\n",
      "__________________________________________________________________________________________________\n",
      "dense_1 (Dense)                 (None, None, 16)     4112        concatenate[0][0]                \n",
      "__________________________________________________________________________________________________\n",
      "tf_op_layer_sub_1 (TensorFlowOp [(None, None, 1)]    0           dense_2[0][0]                    \n",
      "__________________________________________________________________________________________________\n",
      "tf_op_layer_transpose_2 (Tensor [(None, None, 16)]   0           tf_op_layer_ScatterNd[0][0]      \n",
      "__________________________________________________________________________________________________\n",
      "tf_op_layer_mul_2 (TensorFlowOp [(None, None, 16)]   0           dense_2[0][0]                    \n",
      "                                                                 dense_1[0][0]                    \n",
      "__________________________________________________________________________________________________\n",
      "tf_op_layer_mul_3 (TensorFlowOp [(None, None, 16)]   0           tf_op_layer_sub_1[0][0]          \n",
      "                                                                 tf_op_layer_transpose_2[0][0]    \n",
      "__________________________________________________________________________________________________\n",
      "tf_op_layer_add_1 (TensorFlowOp [(None, None, 16)]   0           tf_op_layer_mul_2[0][0]          \n",
      "                                                                 tf_op_layer_mul_3[0][0]          \n",
      "==================================================================================================\n",
      "Total params: 120,721\n",
      "Trainable params: 120,721\n",
      "Non-trainable params: 0\n",
      "__________________________________________________________________________________________________\n"
     ]
    },
    {
     "name": "stdout",
     "output_type": "stream",
     "text": [
      "Step 100 Loss 0.72339 Acc 0.84549356\n",
      "Step 200 Loss 0.04561225 Acc 0.9955556\n",
      "Step 300 Loss 0.01249262 Acc 1.0\n",
      "Step 400 Loss 0.0061105196 Acc 1.0\n",
      "Step 500 Loss 0.0033457172 Acc 1.0\n",
      "invalid literal for int() with base 10: '11+0+5E06F60'\n",
      "Model: \"model\"\n",
      "__________________________________________________________________________________________________\n",
      "Layer (type)                    Output Shape         Param #     Connected to                     \n",
      "==================================================================================================\n",
      "input_1 (InputLayer)            [(None, None)]       0                                            \n",
      "__________________________________________________________________________________________________\n",
      "embedding (Embedding)           (None, None, 64)     1024        input_1[0][0]                    \n",
      "__________________________________________________________________________________________________\n",
      "lstm (LSTM)                     (None, None, 128)    98816       embedding[0][0]                  \n",
      "__________________________________________________________________________________________________\n",
      "tf_op_layer_Shape_1 (TensorFlow [(3,)]               0           lstm[0][0]                       \n",
      "__________________________________________________________________________________________________\n",
      "tf_op_layer_strided_slice_1 (Te [()]                 0           tf_op_layer_Shape_1[0][0]        \n",
      "__________________________________________________________________________________________________\n",
      "tf_op_layer_packed (TensorFlowO [(2,)]               0           tf_op_layer_strided_slice_1[0][0]\n",
      "                                                                 tf_op_layer_strided_slice_1[0][0]\n",
      "__________________________________________________________________________________________________\n",
      "tf_op_layer_ones (TensorFlowOpL [(None, None)]       0           tf_op_layer_packed[0][0]         \n",
      "__________________________________________________________________________________________________\n",
      "tf_op_layer_MatrixBandPart (Ten [(None, None)]       0           tf_op_layer_ones[0][0]           \n",
      "__________________________________________________________________________________________________\n",
      "dense (Dense)                   (None, None, 128)    16512       lstm[0][0]                       \n",
      "__________________________________________________________________________________________________\n",
      "tf_op_layer_sub (TensorFlowOpLa [(None, None)]       0           tf_op_layer_MatrixBandPart[0][0] \n",
      "__________________________________________________________________________________________________\n",
      "tf_op_layer_transpose (TensorFl [(None, 128, None)]  0           dense[0][0]                      \n",
      "__________________________________________________________________________________________________\n",
      "tf_op_layer_mul_1 (TensorFlowOp [(None, None)]       0           tf_op_layer_sub[0][0]            \n",
      "__________________________________________________________________________________________________\n",
      "tf_op_layer_Shape (TensorFlowOp [(3,)]               0           lstm[0][0]                       \n",
      "__________________________________________________________________________________________________\n",
      "tf_op_layer_matmul (TensorFlowO [(None, None, None)] 0           lstm[0][0]                       \n",
      "                                                                 tf_op_layer_transpose[0][0]      \n",
      "__________________________________________________________________________________________________\n",
      "tf_op_layer_strided_slice_2 (Te [(1, None, None)]    0           tf_op_layer_mul_1[0][0]          \n",
      "__________________________________________________________________________________________________\n",
      "tf_op_layer_strided_slice (Tens [()]                 0           tf_op_layer_Shape[0][0]          \n",
      "__________________________________________________________________________________________________\n",
      "tf_op_layer_add (TensorFlowOpLa [(None, None, None)] 0           tf_op_layer_matmul[0][0]         \n",
      "                                                                 tf_op_layer_strided_slice_2[0][0]\n",
      "__________________________________________________________________________________________________\n",
      "tf_op_layer_range (TensorFlowOp [(None,)]            0           tf_op_layer_strided_slice[0][0]  \n",
      "__________________________________________________________________________________________________\n",
      "tf_op_layer_attention_weights ( [(None, None, None)] 0           tf_op_layer_add[0][0]            \n",
      "__________________________________________________________________________________________________\n",
      "tf_op_layer_strided_slice_3 (Te [(None, 1)]          0           tf_op_layer_range[0][0]          \n",
      "__________________________________________________________________________________________________\n",
      "tf_op_layer_Tile/multiples (Ten [(2,)]               0           tf_op_layer_strided_slice_1[0][0]\n",
      "__________________________________________________________________________________________________\n",
      "tf_op_layer_matmul_1 (TensorFlo [(None, None, 128)]  0           tf_op_layer_attention_weights[0][\n",
      "                                                                 lstm[0][0]                       \n",
      "__________________________________________________________________________________________________\n",
      "tf_op_layer_Tile (TensorFlowOpL [(None, None)]       0           tf_op_layer_strided_slice_3[0][0]\n",
      "                                                                 tf_op_layer_Tile/multiples[0][0] \n",
      "__________________________________________________________________________________________________\n",
      "concatenate_1 (Concatenate)     (None, None, 256)    0           tf_op_layer_matmul_1[0][0]       \n",
      "                                                                 dense[0][0]                      \n",
      "__________________________________________________________________________________________________\n",
      "tf_op_layer_stack (TensorFlowOp [(None, None, 2)]    0           tf_op_layer_Tile[0][0]           \n",
      "                                                                 input_1[0][0]                    \n",
      "__________________________________________________________________________________________________\n",
      "tf_op_layer_transpose_1 (Tensor [(None, None, None)] 0           tf_op_layer_attention_weights[0][\n",
      "__________________________________________________________________________________________________\n",
      "tf_op_layer_ScatterNd/shape (Te [(3,)]               0           tf_op_layer_strided_slice[0][0]  \n",
      "                                                                 tf_op_layer_strided_slice_1[0][0]\n",
      "__________________________________________________________________________________________________\n",
      "dense_2 (Dense)                 (None, None, 1)      257         concatenate_1[0][0]              \n",
      "__________________________________________________________________________________________________\n",
      "concatenate (Concatenate)       (None, None, 256)    0           lstm[0][0]                       \n",
      "                                                                 tf_op_layer_matmul_1[0][0]       \n",
      "__________________________________________________________________________________________________\n",
      "tf_op_layer_ScatterNd (TensorFl [(None, 16, None)]   0           tf_op_layer_stack[0][0]          \n",
      "                                                                 tf_op_layer_transpose_1[0][0]    \n",
      "                                                                 tf_op_layer_ScatterNd/shape[0][0]\n",
      "__________________________________________________________________________________________________\n",
      "dense_1 (Dense)                 (None, None, 16)     4112        concatenate[0][0]                \n",
      "__________________________________________________________________________________________________\n",
      "tf_op_layer_sub_1 (TensorFlowOp [(None, None, 1)]    0           dense_2[0][0]                    \n",
      "__________________________________________________________________________________________________\n",
      "tf_op_layer_transpose_2 (Tensor [(None, None, 16)]   0           tf_op_layer_ScatterNd[0][0]      \n",
      "__________________________________________________________________________________________________\n",
      "tf_op_layer_mul_2 (TensorFlowOp [(None, None, 16)]   0           dense_2[0][0]                    \n",
      "                                                                 dense_1[0][0]                    \n",
      "__________________________________________________________________________________________________\n",
      "tf_op_layer_mul_3 (TensorFlowOp [(None, None, 16)]   0           tf_op_layer_sub_1[0][0]          \n",
      "                                                                 tf_op_layer_transpose_2[0][0]    \n",
      "__________________________________________________________________________________________________\n",
      "tf_op_layer_add_1 (TensorFlowOp [(None, None, 16)]   0           tf_op_layer_mul_2[0][0]          \n",
      "                                                                 tf_op_layer_mul_3[0][0]          \n",
      "==================================================================================================\n",
      "Total params: 120,721\n",
      "Trainable params: 120,721\n",
      "Non-trainable params: 0\n",
      "__________________________________________________________________________________________________\n"
     ]
    },
    {
     "name": "stdout",
     "output_type": "stream",
     "text": [
      "Step 100 Loss 0.72325313 Acc 0.8043478\n",
      "Step 200 Loss 0.099478014 Acc 0.972332\n",
      "Step 300 Loss 0.012943586 Acc 1.0\n",
      "Step 400 Loss 0.0104984855 Acc 1.0\n",
      "Step 500 Loss 0.0045968066 Acc 1.0\n"
     ]
    },
    {
     "data": {
      "image/png": "[encoded data removed]",
      "text/plain": [
       "<Figure size 432x288 with 1 Axes>"
      ]
     },
     "metadata": {
      "needs_background": "light"
     },
     "output_type": "display_data"
    }
   ],
   "source": [
    "dataset = data(\n",
    "    n_samples=5000,\n",
    "    max_n_digits=2,\n",
    "    seed=0)\n",
    "dataset = list(dataset)\n",
    "\n",
    "test_dataset = dataset[-300:]\n",
    "\n",
    "n_train_sizes = [20, 50, 75, 100]\n",
    "accuracies = []\n",
    "for n_train in n_train_sizes:\n",
    "    train_dataset = dataset[:n_train]\n",
    "    accuracy, _ = run_experiment(train_dataset, test_dataset, model_type=\"copy\")\n",
    "    accuracies.append(accuracy)\n",
    "    \n",
    "plt.plot(n_train_sizes, accuracies)\n",
    "plt.show()"
   ]
  },
  {
   "cell_type": "code",
   "execution_count": 19,
   "metadata": {
    "scrolled": true
   },
   "outputs": [
    {
     "data": {
      "text/plain": [
       "[0.89, 0.9966666666666667]"
      ]
     },
     "execution_count": 19,
     "metadata": {},
     "output_type": "execute_result"
    }
   ],
   "source": [
    "accuracies"
   ]
  },
  {
   "cell_type": "markdown",
   "metadata": {},
   "source": [
    "## Increasing num digits in training data"
   ]
  },
  {
   "cell_type": "code",
   "execution_count": null,
   "metadata": {
    "scrolled": false
   },
   "outputs": [
    {
     "name": "stdout",
     "output_type": "stream",
     "text": [
      "Model: \"model\"\n",
      "__________________________________________________________________________________________________\n",
      "Layer (type)                    Output Shape         Param #     Connected to                     \n",
      "==================================================================================================\n",
      "input_1 (InputLayer)            [(None, None)]       0                                            \n",
      "__________________________________________________________________________________________________\n",
      "embedding (Embedding)           (None, None, 64)     1024        input_1[0][0]                    \n",
      "__________________________________________________________________________________________________\n",
      "lstm (LSTM)                     (None, None, 128)    98816       embedding[0][0]                  \n",
      "__________________________________________________________________________________________________\n",
      "tf_op_layer_Shape_1 (TensorFlow [(3,)]               0           lstm[0][0]                       \n",
      "__________________________________________________________________________________________________\n",
      "tf_op_layer_strided_slice_1 (Te [()]                 0           tf_op_layer_Shape_1[0][0]        \n",
      "__________________________________________________________________________________________________\n",
      "tf_op_layer_packed (TensorFlowO [(2,)]               0           tf_op_layer_strided_slice_1[0][0]\n",
      "                                                                 tf_op_layer_strided_slice_1[0][0]\n",
      "__________________________________________________________________________________________________\n",
      "tf_op_layer_ones (TensorFlowOpL [(None, None)]       0           tf_op_layer_packed[0][0]         \n",
      "__________________________________________________________________________________________________\n",
      "tf_op_layer_MatrixBandPart (Ten [(None, None)]       0           tf_op_layer_ones[0][0]           \n",
      "__________________________________________________________________________________________________\n",
      "dense (Dense)                   (None, None, 128)    16512       lstm[0][0]                       \n",
      "__________________________________________________________________________________________________\n",
      "tf_op_layer_sub (TensorFlowOpLa [(None, None)]       0           tf_op_layer_MatrixBandPart[0][0] \n",
      "__________________________________________________________________________________________________\n",
      "tf_op_layer_transpose (TensorFl [(None, 128, None)]  0           dense[0][0]                      \n",
      "__________________________________________________________________________________________________\n",
      "tf_op_layer_mul_1 (TensorFlowOp [(None, None)]       0           tf_op_layer_sub[0][0]            \n",
      "__________________________________________________________________________________________________\n",
      "tf_op_layer_Shape (TensorFlowOp [(3,)]               0           lstm[0][0]                       \n",
      "__________________________________________________________________________________________________\n",
      "tf_op_layer_matmul (TensorFlowO [(None, None, None)] 0           lstm[0][0]                       \n",
      "                                                                 tf_op_layer_transpose[0][0]      \n",
      "__________________________________________________________________________________________________\n",
      "tf_op_layer_strided_slice_2 (Te [(1, None, None)]    0           tf_op_layer_mul_1[0][0]          \n",
      "__________________________________________________________________________________________________\n",
      "tf_op_layer_strided_slice (Tens [()]                 0           tf_op_layer_Shape[0][0]          \n",
      "__________________________________________________________________________________________________\n",
      "tf_op_layer_add (TensorFlowOpLa [(None, None, None)] 0           tf_op_layer_matmul[0][0]         \n",
      "                                                                 tf_op_layer_strided_slice_2[0][0]\n",
      "__________________________________________________________________________________________________\n",
      "tf_op_layer_range (TensorFlowOp [(None,)]            0           tf_op_layer_strided_slice[0][0]  \n",
      "__________________________________________________________________________________________________\n",
      "tf_op_layer_attention_weights ( [(None, None, None)] 0           tf_op_layer_add[0][0]            \n",
      "__________________________________________________________________________________________________\n",
      "tf_op_layer_strided_slice_3 (Te [(None, 1)]          0           tf_op_layer_range[0][0]          \n",
      "__________________________________________________________________________________________________\n",
      "tf_op_layer_Tile/multiples (Ten [(2,)]               0           tf_op_layer_strided_slice_1[0][0]\n",
      "__________________________________________________________________________________________________\n",
      "tf_op_layer_matmul_1 (TensorFlo [(None, None, 128)]  0           tf_op_layer_attention_weights[0][\n",
      "                                                                 lstm[0][0]                       \n",
      "__________________________________________________________________________________________________\n",
      "tf_op_layer_Tile (TensorFlowOpL [(None, None)]       0           tf_op_layer_strided_slice_3[0][0]\n",
      "                                                                 tf_op_layer_Tile/multiples[0][0] \n",
      "__________________________________________________________________________________________________\n",
      "concatenate_1 (Concatenate)     (None, None, 256)    0           tf_op_layer_matmul_1[0][0]       \n",
      "                                                                 dense[0][0]                      \n",
      "__________________________________________________________________________________________________\n",
      "tf_op_layer_stack (TensorFlowOp [(None, None, 2)]    0           tf_op_layer_Tile[0][0]           \n",
      "                                                                 input_1[0][0]                    \n",
      "__________________________________________________________________________________________________\n",
      "tf_op_layer_transpose_1 (Tensor [(None, None, None)] 0           tf_op_layer_attention_weights[0][\n",
      "__________________________________________________________________________________________________\n",
      "tf_op_layer_ScatterNd/shape (Te [(3,)]               0           tf_op_layer_strided_slice[0][0]  \n",
      "                                                                 tf_op_layer_strided_slice_1[0][0]\n",
      "__________________________________________________________________________________________________\n",
      "dense_2 (Dense)                 (None, None, 1)      257         concatenate_1[0][0]              \n",
      "__________________________________________________________________________________________________\n",
      "concatenate (Concatenate)       (None, None, 256)    0           lstm[0][0]                       \n",
      "                                                                 tf_op_layer_matmul_1[0][0]       \n",
      "__________________________________________________________________________________________________\n",
      "tf_op_layer_ScatterNd (TensorFl [(None, 16, None)]   0           tf_op_layer_stack[0][0]          \n",
      "                                                                 tf_op_layer_transpose_1[0][0]    \n",
      "                                                                 tf_op_layer_ScatterNd/shape[0][0]\n",
      "__________________________________________________________________________________________________\n",
      "dense_1 (Dense)                 (None, None, 16)     4112        concatenate[0][0]                \n",
      "__________________________________________________________________________________________________\n",
      "tf_op_layer_sub_1 (TensorFlowOp [(None, None, 1)]    0           dense_2[0][0]                    \n",
      "__________________________________________________________________________________________________\n",
      "tf_op_layer_transpose_2 (Tensor [(None, None, 16)]   0           tf_op_layer_ScatterNd[0][0]      \n",
      "__________________________________________________________________________________________________\n",
      "tf_op_layer_mul_2 (TensorFlowOp [(None, None, 16)]   0           dense_2[0][0]                    \n",
      "                                                                 dense_1[0][0]                    \n",
      "__________________________________________________________________________________________________\n",
      "tf_op_layer_mul_3 (TensorFlowOp [(None, None, 16)]   0           tf_op_layer_sub_1[0][0]          \n",
      "                                                                 tf_op_layer_transpose_2[0][0]    \n",
      "__________________________________________________________________________________________________\n",
      "tf_op_layer_add_1 (TensorFlowOp [(None, None, 16)]   0           tf_op_layer_mul_2[0][0]          \n",
      "                                                                 tf_op_layer_mul_3[0][0]          \n",
      "==================================================================================================\n",
      "Total params: 120,721\n",
      "Trainable params: 120,721\n",
      "Non-trainable params: 0\n",
      "__________________________________________________________________________________________________\n"
     ]
    }
   ],
   "source": [
    "train_dataset = data(\n",
    "    n_samples=20000,\n",
    "    max_n_digits=10,\n",
    "    seed=0)\n",
    "train_dataset = list(train_dataset)\n",
    "\n",
    "test_dataset = data(\n",
    "    n_samples=100,\n",
    "    max_n_digits=11,\n",
    "    min_n_digits=11,\n",
    "    seed=0)\n",
    "test_dataset = list(test_dataset)\n",
    "\n",
    "accuracy, model = run_experiment(train_dataset, test_dataset, model_type=\"copy\")\n",
    "print(accuracy)"
   ]
  },
  {
   "cell_type": "code",
   "execution_count": null,
   "metadata": {},
   "outputs": [],
   "source": [
    "decode(model, 11111, 22222)"
   ]
  },
  {
   "cell_type": "markdown",
   "metadata": {},
   "source": [
    "## Model inspection"
   ]
  },
  {
   "cell_type": "code",
   "execution_count": 28,
   "metadata": {},
   "outputs": [
    {
     "name": "stdout",
     "output_type": "stream",
     "text": [
      "Softmax output:\n",
      "tf.Tensor(\n",
      "[5.4974299e-07 4.5491379e-06 2.3568574e-09 5.8792615e-10 3.0597482e-09\n",
      " 2.8557656e-09 1.7530151e-09 2.7995368e-09 2.7640148e-09 1.1759320e-08\n",
      " 5.5896015e-07 2.2194342e-11 9.8302680e-01 1.6953945e-02 1.3359379e-05\n",
      " 1.6310629e-07], shape=(16,), dtype=float32)\n",
      "Argmax token: Q\n",
      "Attention weights:\n"
     ]
    },
    {
     "data": {
      "text/plain": [
       "[<matplotlib.lines.Line2D at 0x7ff289dafd30>]"
      ]
     },
     "execution_count": 28,
     "metadata": {},
     "output_type": "execute_result"
    },
    {
     "data": {
      "image/png": "[encoded data removed]",
      "text/plain": [
       "<Figure size 432x288 with 1 Axes>"
      ]
     },
     "metadata": {
      "needs_background": "light"
     },
     "output_type": "display_data"
    }
   ],
   "source": [
    "ex = \"123+567Q0+3+7E1\"\n",
    "tokenized = tokenize(ex)\n",
    "\n",
    "model2 = models.Model(\n",
    "    inputs=model.inputs,\n",
    "    outputs=[model.outputs, model.get_layer('tf_op_layer_add_1').output])\n",
    "\n",
    "pred, att_weights = model2(tokenized[np.newaxis, ...])\n",
    "print(\"Softmax output:\")\n",
    "print(pred[0][0, -1, :])\n",
    "print('Argmax token:', VOCABULARY[np.argmax(pred[0][0, -1, :])])\n",
    "\n",
    "print(\"Attention weights:\")\n",
    "plt.plot(att_weights[0, -1, :])"
   ]
  },
  {
   "cell_type": "code",
   "execution_count": null,
   "metadata": {},
   "outputs": [],
   "source": []
  }
 ],
 "metadata": {
  "kernelspec": {
   "display_name": "Python 3",
   "language": "python",
   "name": "python3"
  },
  "language_info": {
   "codemirror_mode": {
    "name": "ipython",
    "version": 3
   },
   "file_extension": ".py",
   "mimetype": "text/x-python",
   "name": "python",
   "nbconvert_exporter": "python",
   "pygments_lexer": "ipython3",
   "version": "3.6.9"
  }
 },
 "nbformat": 4,
 "nbformat_minor": 4
}
