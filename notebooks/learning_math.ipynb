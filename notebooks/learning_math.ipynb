{
 "cells": [
  {
   "cell_type": "code",
   "execution_count": 40,
   "metadata": {},
   "outputs": [],
   "source": [
    "import itertools\n",
    "import random\n",
    "import re\n",
    "from IPython.display import display, Markdown, Latex\n",
    "\n",
    "import tensorflow as tf\n",
    "from tensorflow.keras import layers, optimizers, losses, metrics, models\n",
    "import transformers\n",
    "import matplotlib.pyplot as plt\n",
    "import numpy as np"
   ]
  },
  {
   "cell_type": "code",
   "execution_count": 2,
   "metadata": {},
   "outputs": [
    {
     "data": {
      "text/plain": [
       "['0',\n",
       " '1',\n",
       " '2',\n",
       " '3',\n",
       " '4',\n",
       " '5',\n",
       " '6',\n",
       " '7',\n",
       " '8',\n",
       " '9',\n",
       " '+',\n",
       " '=',\n",
       " 'Q',\n",
       " 'E',\n",
       " 'F',\n",
       " '!']"
      ]
     },
     "execution_count": 2,
     "metadata": {},
     "output_type": "execute_result"
    }
   ],
   "source": [
    "VOCABULARY = [str(d) for d in range(10)] + ['+', '=', 'Q', 'E', 'F', '!']\n",
    "VOCABULARY"
   ]
  },
  {
   "cell_type": "code",
   "execution_count": 3,
   "metadata": {},
   "outputs": [
    {
     "data": {
      "text/plain": [
       "'97+53Q0+7+3E10Q1+9+5E15F150!'"
      ]
     },
     "execution_count": 3,
     "metadata": {},
     "output_type": "execute_result"
    }
   ],
   "source": [
    "def data(n_samples, max_n_digits, seed, min_n_digits=1):\n",
    "    random.seed(seed)\n",
    "    already_generated = set()\n",
    "    \n",
    "    while True:\n",
    "        if len(already_generated) >= n_samples:\n",
    "            break\n",
    "        \n",
    "        n_digits = random.randint(min_n_digits, max_n_digits)\n",
    "        \n",
    "        a = random.randint(0, 10 ** n_digits - 1)\n",
    "        b = random.randint(0, 10 ** n_digits - 1)\n",
    "        \n",
    "        if (a, b) in already_generated:\n",
    "            continue\n",
    "        \n",
    "        already_generated.add((a, b))\n",
    "        \n",
    "        problem = f'{a:0{n_digits}d}+{b:0{n_digits}d}'\n",
    "\n",
    "        carry = 0\n",
    "        \n",
    "        for significance in range(n_digits):\n",
    "            a_digit = (a // 10 ** significance) % 10\n",
    "            b_digit = (b // 10 ** significance) % 10\n",
    "            result = a_digit + b_digit + carry\n",
    "            result_digit = result % 10\n",
    "            result_carry = result // 10\n",
    "            problem += f'Q{carry}+{a_digit}+{b_digit}E{result_carry}{result_digit}'\n",
    "            carry = result_carry\n",
    "        \n",
    "        problem += f'F{a+b}!'\n",
    "        \n",
    "        yield problem\n",
    "\n",
    "next(data(100, 3, 0))"
   ]
  },
  {
   "cell_type": "code",
   "execution_count": 4,
   "metadata": {},
   "outputs": [],
   "source": [
    "def tokenize(s):\n",
    "    s = list(s)\n",
    "    return np.array([VOCABULARY.index(c) for c in s], dtype=np.int32)\n",
    "\n",
    "def detokenize(arr):\n",
    "    return ''.join([VOCABULARY[x] for x in arr])"
   ]
  },
  {
   "cell_type": "code",
   "execution_count": 5,
   "metadata": {},
   "outputs": [
    {
     "data": {
      "text/plain": [
       "'08'"
      ]
     },
     "execution_count": 5,
     "metadata": {},
     "output_type": "execute_result"
    }
   ],
   "source": [
    "def system_1(s):\n",
    "    return f'{eval(s):02d}'\n",
    "\n",
    "system_1('7+1+0')"
   ]
  },
  {
   "cell_type": "code",
   "execution_count": 6,
   "metadata": {},
   "outputs": [],
   "source": [
    "def data_generator(dataset):\n",
    "    for example in dataset:\n",
    "        idxs = [(m.start(0), m.end(0))\n",
    "                for m in re.finditer('Q.\\+.\\+.E|F.*!', example[1:])]\n",
    "        \n",
    "        tokens = tokenize(example)\n",
    "        inputs = tokens[:-1]\n",
    "        targets = tokens[1:]\n",
    "        \n",
    "        mask = np.array([0] * len(targets))\n",
    "        for s, e in idxs:\n",
    "            mask[s:e] = 1\n",
    "        \n",
    "        yield inputs, targets, mask"
   ]
  },
  {
   "cell_type": "code",
   "execution_count": 7,
   "metadata": {},
   "outputs": [],
   "source": [
    "class System1Error(Exception):\n",
    "    pass\n",
    "\n",
    "def decode_generator(model, a, b):\n",
    "    n_digits = max(len(str(a)), len(str(b)))\n",
    "    ex = f\"{a:0{n_digits}d}+{b:0{n_digits}d}\"\n",
    "    tokenized = tokenize(ex).astype(np.int32)\n",
    "    \n",
    "    while True:\n",
    "        while not tokenized[-1] in (VOCABULARY.index('E'), VOCABULARY.index('!')):\n",
    "            pred = model(tokenized[np.newaxis, ...], training=False)\n",
    "            pred = pred.numpy()\n",
    "            next_token = np.argmax(pred, axis=-1)[0, -1].astype(np.int32)\n",
    "            tokenized = np.append(tokenized, next_token)\n",
    "            yield detokenize(tokenized)\n",
    "\n",
    "        if tokenized[-1] == VOCABULARY.index('E'):\n",
    "            # Call system 1\n",
    "            query = detokenize(tokenized)[-6:-1]\n",
    "            try:\n",
    "                ans = system_1(query)\n",
    "            except Exception as e:\n",
    "                raise System1Error(e)\n",
    "            tokenized_ans = tokenize(ans)\n",
    "            tokenized = np.append(tokenized, tokenized_ans)\n",
    "            yield detokenize(tokenized)\n",
    "\n",
    "        elif tokenized[-1] == VOCABULARY.index('!'):\n",
    "            break\n",
    "\n",
    "def decode(model, a, b):\n",
    "    for detokenized in decode_generator(model, a, b):\n",
    "        pass\n",
    "    return detokenized"
   ]
  },
  {
   "cell_type": "code",
   "execution_count": 8,
   "metadata": {},
   "outputs": [],
   "source": [
    "def evaluate(model, test_dataset):\n",
    "    n_correct = 0\n",
    "    for example in test_dataset:\n",
    "        i = example.index('Q')\n",
    "        ab = example[:i]\n",
    "        i = ab.index('+')\n",
    "        a = int(ab[:i])\n",
    "        b = int(ab[i:])\n",
    "\n",
    "        try:\n",
    "            ans = decode(model, a, b)\n",
    "            i = ans.index('F')\n",
    "            ans = ans[i+1:-1]\n",
    "            ans = int(ans)\n",
    "\n",
    "            if ans == a + b:\n",
    "                n_correct += 1\n",
    "        except ValueError as err:\n",
    "            print(\"ValueError in eval:\", err)\n",
    "        except System1Error as err:\n",
    "            print(\"System1Error in eval:\", err)\n",
    "\n",
    "    return n_correct / len(test_dataset)"
   ]
  },
  {
   "cell_type": "code",
   "execution_count": 9,
   "metadata": {},
   "outputs": [],
   "source": [
    "def build_model(vocab_size):\n",
    "    inputs = layers.Input((None,), dtype=tf.int32)\n",
    "    x = inputs\n",
    "    x = layers.Embedding(vocab_size, 64)(x)\n",
    "    x = layers.LSTM(128, return_sequences=True)(x)\n",
    "    x = layers.Dense(vocab_size, activation='softmax')(x)\n",
    "    model = models.Model(inputs, x)\n",
    "    \n",
    "    return model"
   ]
  },
  {
   "cell_type": "code",
   "execution_count": 10,
   "metadata": {},
   "outputs": [],
   "source": [
    "def build_attention_model(vocab_size):\n",
    "    inputs = layers.Input((None,), dtype=tf.int32)\n",
    "    x = inputs\n",
    "    x = layers.Embedding(vocab_size, 64)(x)\n",
    "    x = layers.LSTM(128, return_sequences=True)(x)\n",
    "    \n",
    "    # Attention mechanism.\n",
    "    seq_len = tf.shape(x)[1]\n",
    "    keys = layers.Dense(128)(x)\n",
    "    look_ahead_mask = (1 - tf.linalg.band_part(tf.ones((seq_len, seq_len)), -1, 0)) * -1e9\n",
    "    look_ahead_mask = look_ahead_mask[tf.newaxis, ...]\n",
    "    attention_scores = x @ tf.transpose(keys, [0, 2, 1])\n",
    "    attention_scores = attention_scores + look_ahead_mask\n",
    "    attention_weights = tf.nn.softmax(attention_scores, name=\"attention_weights\")\n",
    "    x_att = attention_weights @ x\n",
    "    x = layers.Concatenate()([x, x_att])\n",
    "    \n",
    "    x = layers.Dense(vocab_size, activation='softmax')(x)\n",
    "    model = models.Model(inputs, x)\n",
    "    \n",
    "    return model"
   ]
  },
  {
   "cell_type": "code",
   "execution_count": 11,
   "metadata": {
    "pycharm": {
     "name": "#%%\n"
    }
   },
   "outputs": [],
   "source": [
    "def build_copy_model(vocab_size):\n",
    "    inputs = layers.Input((None,), dtype=tf.int32)\n",
    "    x = inputs\n",
    "    x = layers.Embedding(vocab_size, 64)(x)\n",
    "    x = layers.LSTM(128, return_sequences=True)(x)\n",
    "    \n",
    "    batch_size = tf.shape(x)[0]\n",
    "    seq_len = tf.shape(x)[1]\n",
    "    keys = layers.Dense(128)(x)\n",
    "    look_ahead_mask = (1 - tf.linalg.band_part(tf.ones((seq_len, seq_len)), -1, 0)) * -1e9\n",
    "    look_ahead_mask = look_ahead_mask[tf.newaxis, ...]\n",
    "    attention_scores = x @ tf.transpose(keys, [0, 2, 1])\n",
    "    attention_scores = attention_scores + look_ahead_mask\n",
    "    attention_weights = tf.nn.softmax(attention_scores, name=\"attention_weights\")\n",
    "    x_att = attention_weights @ x\n",
    "    x_att = layers.Dropout(0.2)(x_att)\n",
    "    \n",
    "    # Generative distribution.\n",
    "    gen_dist = layers.Dense(vocab_size, activation='softmax')(x_att)\n",
    "    \n",
    "    # Copy mechanism based distribution.\n",
    "    indices = tf.range(batch_size, dtype=tf.int32)[:, tf.newaxis]  # (bs, 1)\n",
    "    indices = tf.tile(indices, [1, seq_len])  # (bs, seq_len)\n",
    "    indices = tf.stack((indices, inputs), axis=2)\n",
    "    #indices = tf.transpose(indices, perm=[1, 2, 0])  # (bs, seq_len, 2)\n",
    "    updates = tf.transpose(attention_weights, perm=[0, 2, 1])\n",
    "    output_shape = [batch_size, vocab_size, seq_len]\n",
    "    copy_dist = tf.scatter_nd(indices, updates, output_shape)\n",
    "    copy_dist = tf.transpose(copy_dist, [0, 2, 1])\n",
    "    \n",
    "    # Combine distributions.\n",
    "    p_gen_pre_logit = layers.Concatenate()([x_att, keys])\n",
    "    p_gen = layers.Dense(1, activation=\"sigmoid\")(p_gen_pre_logit)\n",
    "    dist = p_gen * gen_dist + (1 - p_gen) * copy_dist \n",
    "    \n",
    "    model = models.Model(inputs, dist)\n",
    "    \n",
    "    return model"
   ]
  },
  {
   "cell_type": "code",
   "execution_count": 12,
   "metadata": {},
   "outputs": [],
   "source": [
    "def get_model(model_type):\n",
    "    vocab_size = len(VOCABULARY)\n",
    "    if model_type == \"baseline\":\n",
    "        model = build_model(vocab_size)\n",
    "    elif model_type == \"attention\":\n",
    "        model = build_attention_model(vocab_size)\n",
    "    elif model_type == \"copy\":\n",
    "        model = build_copy_model(vocab_size)\n",
    "    else:\n",
    "        raise Exception(\"Invalid model.\")\n",
    "    model.build(input_shape=(None, None))\n",
    "    return model"
   ]
  },
  {
   "cell_type": "code",
   "execution_count": 13,
   "metadata": {
    "scrolled": false
   },
   "outputs": [],
   "source": [
    "def run_experiment(train_dataset, test_dataset, model):\n",
    "    tf.keras.backend.clear_session()\n",
    "    \n",
    "    batch_size = 64\n",
    "\n",
    "    train_ds = tf.data.Dataset.from_generator(\n",
    "        lambda: data_generator(train_dataset),\n",
    "        output_types=(tf.int32, tf.int32, tf.int32),\n",
    "        output_shapes=(\n",
    "            tf.TensorShape((None,)), \n",
    "            tf.TensorShape((None,)), \n",
    "            tf.TensorShape((None,))\n",
    "        ))\n",
    "    train_ds = train_ds.shuffle(10000)\n",
    "    train_ds = train_ds.padded_batch(batch_size, padded_shapes=([None], [None], [None]))\n",
    "    train_ds = train_ds.prefetch(100)\n",
    "\n",
    "    accuracy = tf.keras.metrics.SparseCategoricalAccuracy()\n",
    "    \n",
    "    optimizer = optimizers.Adam(1e-3)\n",
    "\n",
    "    @tf.function\n",
    "    def train_step(inputs, targets, mask):\n",
    "        with tf.GradientTape() as tape:\n",
    "            outputs = model(inputs, training=True)\n",
    "            loss = tf.losses.sparse_categorical_crossentropy(targets, outputs)\n",
    "            loss = tf.boolean_mask(loss, tf.cast(mask, tf.bool))\n",
    "            loss = tf.reduce_mean(loss)\n",
    "\n",
    "            masked_outputs = tf.boolean_mask(outputs, tf.cast(mask, tf.bool))\n",
    "            accuracy(targets, outputs, sample_weight=mask)\n",
    "\n",
    "        gradients = tape.gradient(loss, model.trainable_variables)\n",
    "        optimizer.apply_gradients(zip(gradients, model.trainable_variables))\n",
    "\n",
    "        return loss\n",
    "\n",
    "    accuracy_history = []\n",
    "    stop_criteria_last_n = 5\n",
    "    \n",
    "    for i, (inputs, targets, mask) in train_ds.repeat(None).take(4000).enumerate():\n",
    "        accuracy.reset_states()\n",
    "        loss = train_step(inputs, targets, mask)\n",
    "        if i % 100 == 0 and i > 0:\n",
    "            print(\n",
    "                'Step', i.numpy(),\n",
    "                'Loss', loss.numpy(),\n",
    "                'Acc', accuracy.result().numpy())\n",
    "            accuracy_history.append(accuracy.result().numpy())\n",
    "            if len(accuracy_history) > stop_criteria_last_n:\n",
    "                accuracy_history = accuracy_history[1:]\n",
    "            if sum(accuracy_history) >= 1.0 * stop_criteria_last_n - 0.000001:\n",
    "                break\n",
    "    \n",
    "    accuracy = evaluate(model, test_dataset)\n",
    "    \n",
    "    return accuracy, model"
   ]
  },
  {
   "cell_type": "markdown",
   "metadata": {
    "pycharm": {
     "name": "#%% md\n"
    }
   },
   "source": [
    "## Baseline"
   ]
  },
  {
   "cell_type": "code",
   "execution_count": 34,
   "metadata": {
    "pycharm": {
     "name": "#%%\n"
    },
    "scrolled": true
   },
   "outputs": [
    {
     "name": "stdout",
     "output_type": "stream",
     "text": [
      "Step 100 Loss 1.1862833 Acc 0.65282214\n",
      "Step 200 Loss 0.68037593 Acc 0.77059436\n",
      "Step 300 Loss 0.4845533 Acc 0.8442623\n",
      "Step 400 Loss 0.29587007 Acc 0.92164946\n",
      "Step 500 Loss 0.15812694 Acc 0.97021276\n",
      "Step 600 Loss 0.07327411 Acc 0.99464667\n",
      "Step 700 Loss 0.037553713 Acc 0.99897116\n",
      "Step 800 Loss 0.022651564 Acc 1.0\n",
      "Step 900 Loss 0.01487125 Acc 1.0\n",
      "Step 1000 Loss 0.009957217 Acc 1.0\n",
      "Step 1100 Loss 0.0073087015 Acc 1.0\n",
      "Step 1200 Loss 0.0058434503 Acc 1.0\n",
      "ValueError in eval: substring not found\n",
      "System1Error in eval: unexpected EOF while parsing (<string>, line 1)\n",
      "System1Error in eval: name 'Q0' is not defined\n",
      "ValueError in eval: invalid literal for int() with base 10: '15F'\n",
      "ValueError in eval: substring not found\n",
      "ValueError in eval: invalid literal for int() with base 10: 'F'\n",
      "ValueError in eval: invalid literal for int() with base 10: 'F3'\n",
      "System1Error in eval: unexpected EOF while parsing (<string>, line 1)\n",
      "ValueError in eval: substring not found\n",
      "System1Error in eval: unexpected EOF while parsing (<string>, line 1)\n",
      "System1Error in eval: invalid syntax (<string>, line 1)\n",
      "ValueError in eval: invalid literal for int() with base 10: '1F1'\n",
      "ValueError in eval: invalid literal for int() with base 10: '888888888888+8+0Q0+0+0E00Q0+0+0E0080'\n",
      "Step 100 Loss 1.5299813 Acc 0.61904764\n",
      "Step 200 Loss 0.84820324 Acc 0.6941392\n",
      "Step 300 Loss 0.7499559 Acc 0.7338783\n",
      "Step 400 Loss 0.68583757 Acc 0.7611807\n",
      "Step 500 Loss 0.6252331 Acc 0.7861011\n",
      "Step 600 Loss 0.56926256 Acc 0.8061224\n",
      "Step 700 Loss 0.47682616 Acc 0.8441203\n",
      "Step 800 Loss 0.38035524 Acc 0.8906999\n",
      "Step 900 Loss 0.31543842 Acc 0.91351354\n",
      "Step 1000 Loss 0.22168742 Acc 0.9455217\n",
      "Step 1100 Loss 0.159135 Acc 0.9668508\n",
      "Step 1200 Loss 0.109449804 Acc 0.98630136\n",
      "Step 1300 Loss 0.078042716 Acc 0.9910554\n",
      "Step 1400 Loss 0.05438614 Acc 0.9981966\n",
      "Step 1500 Loss 0.037445452 Acc 0.9980952\n",
      "Step 1600 Loss 0.032589838 Acc 0.99822694\n",
      "Step 1700 Loss 0.021109069 Acc 1.0\n",
      "Step 1800 Loss 0.016696393 Acc 1.0\n",
      "Step 1900 Loss 0.012067419 Acc 1.0\n",
      "Step 2000 Loss 0.010343065 Acc 1.0\n",
      "Step 2100 Loss 0.008208174 Acc 1.0\n",
      "Step 100 Loss 1.5621746 Acc 0.58465606\n",
      "Step 200 Loss 0.87198675 Acc 0.692029\n",
      "Step 300 Loss 0.76194113 Acc 0.7173524\n",
      "Step 400 Loss 0.7113558 Acc 0.7504409\n",
      "Step 500 Loss 0.6436431 Acc 0.77081466\n",
      "Step 600 Loss 0.58616704 Acc 0.788975\n",
      "Step 700 Loss 0.50414705 Acc 0.8205591\n",
      "Step 800 Loss 0.41765955 Acc 0.8666667\n",
      "Step 900 Loss 0.35005274 Acc 0.89285713\n",
      "Step 1000 Loss 0.26177704 Acc 0.92233855\n",
      "Step 1100 Loss 0.19039772 Acc 0.95837027\n",
      "Step 1200 Loss 0.13421999 Acc 0.97325283\n",
      "Step 1300 Loss 0.100248985 Acc 0.98471224\n",
      "Step 1400 Loss 0.058536775 Acc 0.9982699\n",
      "Step 1500 Loss 0.046379697 Acc 0.9956522\n",
      "Step 1600 Loss 0.029428855 Acc 0.99911815\n",
      "Step 1700 Loss 0.026532382 Acc 1.0\n",
      "Step 1800 Loss 0.02227902 Acc 1.0\n",
      "Step 1900 Loss 0.017268917 Acc 1.0\n",
      "Step 2000 Loss 0.014422558 Acc 1.0\n",
      "Step 100 Loss 1.4663426 Acc 0.5731394\n",
      "Step 200 Loss 0.89904237 Acc 0.6930519\n",
      "Step 300 Loss 0.7599447 Acc 0.7248495\n",
      "Step 400 Loss 0.6971414 Acc 0.74805194\n",
      "Step 500 Loss 0.6313308 Acc 0.7730802\n",
      "Step 600 Loss 0.5839829 Acc 0.79777205\n",
      "Step 700 Loss 0.523813 Acc 0.8143972\n",
      "Step 800 Loss 0.45513096 Acc 0.84136724\n",
      "Step 900 Loss 0.3869459 Acc 0.8855679\n",
      "Step 1000 Loss 0.26418537 Acc 0.9235395\n",
      "Step 1100 Loss 0.22217138 Acc 0.9506066\n",
      "Step 1200 Loss 0.16051228 Acc 0.9653979\n",
      "Step 1300 Loss 0.11818745 Acc 0.9778369\n",
      "Step 1400 Loss 0.084868625 Acc 0.9906383\n",
      "Step 1500 Loss 0.056889568 Acc 0.9991342\n",
      "Step 1600 Loss 0.04283627 Acc 0.9956408\n",
      "Step 1700 Loss 0.032677457 Acc 0.9991319\n",
      "Step 1800 Loss 0.02744842 Acc 1.0\n",
      "Step 1900 Loss 0.02235809 Acc 1.0\n",
      "Step 2000 Loss 0.021123797 Acc 1.0\n",
      "Step 2100 Loss 0.012152342 Acc 1.0\n"
     ]
    },
    {
     "data": {
      "image/png": "[encoded data removed]",
      "text/plain": [
       "<Figure size 432x288 with 1 Axes>"
      ]
     },
     "metadata": {
      "needs_background": "light"
     },
     "output_type": "display_data"
    }
   ],
   "source": [
    "dataset = data(\n",
    "    n_samples=5000,\n",
    "    max_n_digits=2,\n",
    "    seed=0)\n",
    "dataset = list(dataset)\n",
    "\n",
    "test_dataset = dataset[-300:]\n",
    "\n",
    "n_train_sizes = [100, 500, 1000, 2000]\n",
    "accuracies = []\n",
    "\n",
    "for n_train in n_train_sizes:\n",
    "    train_dataset = dataset[:n_train]\n",
    "    model = get_model(model_type=\"baseline\")\n",
    "    accuracy, _ = run_experiment(train_dataset, test_dataset, model)\n",
    "    accuracies.append(accuracy)\n",
    "    \n",
    "plt.plot(n_train_sizes, accuracies)\n",
    "plt.show()"
   ]
  },
  {
   "cell_type": "code",
   "execution_count": 35,
   "metadata": {},
   "outputs": [
    {
     "data": {
      "text/plain": [
       "[0.02666666666666667, 0.71, 0.9433333333333334, 0.9933333333333333]"
      ]
     },
     "execution_count": 35,
     "metadata": {},
     "output_type": "execute_result"
    }
   ],
   "source": [
    "accuracies"
   ]
  },
  {
   "cell_type": "markdown",
   "metadata": {
    "pycharm": {
     "name": "#%% md\n"
    }
   },
   "source": [
    "## Baseline + self attention"
   ]
  },
  {
   "cell_type": "code",
   "execution_count": 39,
   "metadata": {
    "pycharm": {
     "name": "#%%\n"
    },
    "scrolled": false
   },
   "outputs": [
    {
     "name": "stdout",
     "output_type": "stream",
     "text": [
      "Step 100 Loss 1.4945395 Acc 0.6157068\n",
      "Step 200 Loss 0.71257013 Acc 0.74570817\n",
      "Step 300 Loss 0.6223441 Acc 0.7964323\n",
      "Step 400 Loss 0.5438031 Acc 0.8249497\n",
      "Step 500 Loss 0.38787943 Acc 0.88272923\n",
      "Step 600 Loss 0.27193817 Acc 0.92142856\n",
      "Step 700 Loss 0.17974058 Acc 0.9497908\n",
      "Step 800 Loss 0.20003377 Acc 0.94824016\n",
      "Step 900 Loss 0.12747312 Acc 0.97308487\n",
      "Step 1000 Loss 0.0876744 Acc 0.9871106\n",
      "Step 1100 Loss 0.05597739 Acc 0.9958678\n",
      "Step 1200 Loss 0.036519613 Acc 0.997921\n",
      "Step 1300 Loss 0.024524229 Acc 0.9989339\n",
      "Step 1400 Loss 0.018582297 Acc 1.0\n",
      "Step 1500 Loss 0.012929136 Acc 1.0\n",
      "Step 1600 Loss 0.009713276 Acc 1.0\n",
      "Step 1700 Loss 0.008025642 Acc 1.0\n",
      "Step 1800 Loss 0.0064589335 Acc 1.0\n",
      "ValueError in eval: invalid literal for int() with base 10: '1F88'\n",
      "System1Error in eval: invalid syntax (<string>, line 1)\n",
      "ValueError in eval: invalid literal for int() with base 10: 'F99'\n",
      "ValueError in eval: invalid literal for int() with base 10: 'F188'\n",
      "ValueError in eval: invalid literal for int() with base 10: 'F15'\n",
      "ValueError in eval: invalid literal for int() with base 10: 'F81'\n",
      "System1Error in eval: name 'Q0' is not defined\n",
      "ValueError in eval: invalid literal for int() with base 10: '1F96'\n",
      "ValueError in eval: invalid literal for int() with base 10: '1F47'\n",
      "ValueError in eval: invalid literal for int() with base 10: 'F18'\n",
      "ValueError in eval: invalid literal for int() with base 10: 'F88'\n",
      "ValueError in eval: invalid literal for int() with base 10: 'F113'\n",
      "ValueError in eval: invalid literal for int() with base 10: 'F11'\n",
      "System1Error in eval: invalid syntax (<string>, line 1)\n",
      "ValueError in eval: invalid literal for int() with base 10: '1F96'\n",
      "ValueError in eval: invalid literal for int() with base 10: 'F129'\n",
      "ValueError in eval: invalid literal for int() with base 10: 'F138'\n",
      "System1Error in eval: invalid syntax (<string>, line 1)\n",
      "System1Error in eval: invalid syntax (<string>, line 1)\n",
      "System1Error in eval: invalid syntax (<string>, line 1)\n",
      "Step 100 Loss 1.8419912 Acc 0.46402213\n",
      "Step 200 Loss 1.0512199 Acc 0.65627867\n",
      "Step 300 Loss 0.7912355 Acc 0.7206021\n",
      "Step 400 Loss 0.7265875 Acc 0.7388128\n",
      "Step 500 Loss 0.70978475 Acc 0.75915754\n",
      "Step 600 Loss 0.64995533 Acc 0.78373206\n",
      "Step 700 Loss 0.5894177 Acc 0.8153153\n",
      "Step 800 Loss 0.47029495 Acc 0.85805863\n",
      "Step 900 Loss 0.3599512 Acc 0.9002822\n",
      "Step 1000 Loss 0.32068062 Acc 0.9094236\n",
      "Step 1100 Loss 0.19777942 Acc 0.9458972\n",
      "Step 1200 Loss 0.1360396 Acc 0.96875\n",
      "Step 1300 Loss 0.09994104 Acc 0.9770642\n",
      "Step 1400 Loss 0.058562454 Acc 0.99253035\n",
      "Step 1500 Loss 0.03244482 Acc 0.9981516\n",
      "Step 1600 Loss 0.01896251 Acc 1.0\n",
      "Step 1700 Loss 0.013737502 Acc 1.0\n",
      "Step 1800 Loss 0.01088162 Acc 1.0\n",
      "Step 1900 Loss 0.008636003 Acc 1.0\n",
      "Step 2000 Loss 0.0070806416 Acc 1.0\n",
      "Step 100 Loss 1.840142 Acc 0.5212766\n",
      "Step 200 Loss 0.888795 Acc 0.6796537\n",
      "Step 300 Loss 0.7643263 Acc 0.72869563\n",
      "Step 400 Loss 0.6851094 Acc 0.75728154\n",
      "Step 500 Loss 0.6057733 Acc 0.8016014\n",
      "Step 600 Loss 0.51964825 Acc 0.82913166\n",
      "Step 700 Loss 0.42615777 Acc 0.8770795\n",
      "Step 800 Loss 0.27953485 Acc 0.9297597\n",
      "Step 900 Loss 0.19047084 Acc 0.95\n",
      "Step 1000 Loss 0.11685133 Acc 0.9739677\n",
      "Step 1100 Loss 0.06854128 Acc 0.99030834\n",
      "Step 1200 Loss 0.044823118 Acc 0.9965458\n",
      "Step 1300 Loss 0.03035149 Acc 1.0\n",
      "Step 1400 Loss 0.0213715 Acc 1.0\n",
      "Step 1500 Loss 0.015348879 Acc 1.0\n",
      "Step 1600 Loss 0.01105716 Acc 1.0\n",
      "Step 1700 Loss 0.0088163745 Acc 1.0\n",
      "Step 100 Loss 1.7196798 Acc 0.5109553\n",
      "Step 200 Loss 1.0629988 Acc 0.6564952\n",
      "Step 300 Loss 0.8527479 Acc 0.7022184\n",
      "Step 400 Loss 0.81470037 Acc 0.71416384\n",
      "Step 500 Loss 0.76813775 Acc 0.7339688\n",
      "Step 600 Loss 0.7279041 Acc 0.7398092\n",
      "Step 700 Loss 0.65888435 Acc 0.77014416\n",
      "Step 800 Loss 0.62742096 Acc 0.78443116\n",
      "Step 900 Loss 0.5588078 Acc 0.8363636\n",
      "Step 1000 Loss 0.47607103 Acc 0.8695652\n",
      "Step 1100 Loss 0.41429025 Acc 0.891962\n",
      "Step 1200 Loss 0.35205498 Acc 0.90783805\n",
      "Step 1300 Loss 0.30028102 Acc 0.91572547\n",
      "Step 1400 Loss 0.25364414 Acc 0.9307432\n",
      "Step 1500 Loss 0.21326815 Acc 0.94641316\n",
      "Step 1600 Loss 0.18262124 Acc 0.9508197\n",
      "Step 1700 Loss 0.15522406 Acc 0.9664014\n",
      "Step 1800 Loss 0.1104411 Acc 0.9769033\n",
      "Step 1900 Loss 0.095926106 Acc 0.98253274\n",
      "Step 2000 Loss 0.06603454 Acc 0.99058217\n",
      "Step 2100 Loss 0.053874776 Acc 0.9948097\n",
      "Step 2200 Loss 0.04399038 Acc 0.99571186\n",
      "Step 2300 Loss 0.03333827 Acc 0.9982669\n",
      "Step 2400 Loss 0.023149513 Acc 0.9982729\n",
      "Step 2500 Loss 0.017109375 Acc 1.0\n",
      "Step 2600 Loss 0.016539099 Acc 1.0\n",
      "Step 2700 Loss 0.011676754 Acc 1.0\n",
      "Step 2800 Loss 0.010862077 Acc 1.0\n",
      "Step 2900 Loss 0.009539674 Acc 1.0\n"
     ]
    },
    {
     "data": {
      "image/png": "[encoded data removed]",
      "text/plain": [
       "<Figure size 432x288 with 1 Axes>"
      ]
     },
     "metadata": {
      "needs_background": "light"
     },
     "output_type": "display_data"
    }
   ],
   "source": [
    "dataset = data(\n",
    "    n_samples=5000,\n",
    "    max_n_digits=2,\n",
    "    seed=0)\n",
    "dataset = list(dataset)\n",
    "\n",
    "test_dataset = dataset[-300:]\n",
    "\n",
    "n_train_sizes = [100, 500, 1000, 2000]\n",
    "accuracies = []\n",
    "for n_train in n_train_sizes:\n",
    "    train_dataset = dataset[:n_train]\n",
    "    model = get_model(model_type=\"attention\")\n",
    "    accuracy, _ = run_experiment(train_dataset, test_dataset, model)\n",
    "    accuracies.append(accuracy)\n",
    "    \n",
    "plt.plot(n_train_sizes, accuracies)\n",
    "plt.show()"
   ]
  },
  {
   "cell_type": "code",
   "execution_count": 40,
   "metadata": {},
   "outputs": [
    {
     "data": {
      "text/plain": [
       "[0.06666666666666667, 0.9466666666666667, 0.97, 1.0]"
      ]
     },
     "execution_count": 40,
     "metadata": {},
     "output_type": "execute_result"
    }
   ],
   "source": [
    "accuracies"
   ]
  },
  {
   "cell_type": "markdown",
   "metadata": {
    "pycharm": {
     "name": "#%% md\n"
    }
   },
   "source": [
    "## Baseline + self attention + copy mechanism"
   ]
  },
  {
   "cell_type": "code",
   "execution_count": 36,
   "metadata": {
    "scrolled": false
   },
   "outputs": [
    {
     "name": "stdout",
     "output_type": "stream",
     "text": [
      "Step 100 Loss 0.38411444 Acc 0.9507042\n",
      "Step 200 Loss 0.021667484 Acc 1.0\n",
      "Step 300 Loss 0.0070585534 Acc 1.0\n",
      "Step 400 Loss 0.0036370384 Acc 1.0\n",
      "Step 500 Loss 0.0022463168 Acc 1.0\n",
      "Step 600 Loss 0.001534596 Acc 1.0\n",
      "Step 100 Loss 0.44649592 Acc 0.92156863\n",
      "Step 200 Loss 0.016784322 Acc 1.0\n",
      "Step 300 Loss 0.0058229836 Acc 1.0\n",
      "Step 400 Loss 0.0029924125 Acc 1.0\n",
      "Step 500 Loss 0.0018798029 Acc 1.0\n",
      "Step 600 Loss 0.0013016862 Acc 1.0\n",
      "Step 100 Loss 0.8320273 Acc 0.7452229\n",
      "Step 200 Loss 0.08308071 Acc 0.99486655\n",
      "Step 300 Loss 0.03328858 Acc 0.9979317\n",
      "Step 400 Loss 0.010380074 Acc 1.0\n",
      "Step 500 Loss 0.0072118035 Acc 0.9989637\n",
      "Step 600 Loss 0.003904746 Acc 1.0\n",
      "Step 700 Loss 0.0027104837 Acc 1.0\n",
      "Step 800 Loss 0.0019478889 Acc 1.0\n",
      "Step 900 Loss 0.0015710242 Acc 1.0\n",
      "Step 1000 Loss 0.0012098234 Acc 1.0\n",
      "Step 100 Loss 0.6340881 Acc 0.8931841\n",
      "Step 200 Loss 0.04874879 Acc 0.9989733\n",
      "Step 300 Loss 0.01375618 Acc 1.0\n",
      "Step 400 Loss 0.0057922937 Acc 1.0\n",
      "Step 500 Loss 0.0034799408 Acc 1.0\n",
      "Step 600 Loss 0.0024150668 Acc 1.0\n",
      "Step 700 Loss 0.0017707398 Acc 1.0\n"
     ]
    },
    {
     "data": {
      "image/png": "[encoded data removed]",
      "text/plain": [
       "<Figure size 432x288 with 1 Axes>"
      ]
     },
     "metadata": {
      "needs_background": "light"
     },
     "output_type": "display_data"
    }
   ],
   "source": [
    "dataset = data(\n",
    "    n_samples=5000,\n",
    "    max_n_digits=2,\n",
    "    seed=0)\n",
    "dataset = list(dataset)\n",
    "\n",
    "test_dataset = dataset[-300:]\n",
    "\n",
    "n_train_sizes = [20, 50, 75, 100]\n",
    "accuracies = []\n",
    "for n_train in n_train_sizes:\n",
    "    train_dataset = dataset[:n_train]\n",
    "    model = get_model(model_type=\"copy\")\n",
    "    accuracy, _ = run_experiment(train_dataset, test_dataset, model)\n",
    "    accuracies.append(accuracy)\n",
    "    \n",
    "plt.plot(n_train_sizes, accuracies)\n",
    "plt.show()"
   ]
  },
  {
   "cell_type": "code",
   "execution_count": 37,
   "metadata": {
    "pycharm": {
     "name": "#%%\n"
    }
   },
   "outputs": [
    {
     "data": {
      "text/plain": [
       "[0.9033333333333333, 0.97, 0.9933333333333333, 0.9933333333333333]"
      ]
     },
     "execution_count": 37,
     "metadata": {},
     "output_type": "execute_result"
    }
   ],
   "source": [
    "accuracies"
   ]
  },
  {
   "cell_type": "markdown",
   "metadata": {},
   "source": [
    "## Increasing num digits in training data"
   ]
  },
  {
   "cell_type": "code",
   "execution_count": null,
   "metadata": {
    "pycharm": {
     "name": "#%%\n"
    }
   },
   "outputs": [],
   "source": [
    "train_dataset = data(\n",
    "    n_samples=20000,\n",
    "    max_n_digits=10,\n",
    "    seed=0)\n",
    "train_dataset = list(train_dataset)\n",
    "\n",
    "test_dataset = data(\n",
    "    n_samples=100,\n",
    "    max_n_digits=11,\n",
    "    min_n_digits=11,\n",
    "    seed=0)\n",
    "test_dataset = list(test_dataset)\n",
    "\n",
    "accuracy, model = run_experiment(train_dataset, test_dataset, model_type=\"copy\")\n",
    "print(accuracy)"
   ]
  },
  {
   "cell_type": "code",
   "execution_count": null,
   "metadata": {
    "pycharm": {
     "name": "#%%\n"
    }
   },
   "outputs": [],
   "source": [
    "decode(model, 11111, 22222)"
   ]
  },
  {
   "cell_type": "markdown",
   "metadata": {},
   "source": [
    "## Model inspection"
   ]
  },
  {
   "cell_type": "code",
   "execution_count": null,
   "metadata": {
    "pycharm": {
     "name": "#%%\n"
    }
   },
   "outputs": [],
   "source": [
    "ex = \"123+567Q0+3+7E1\"\n",
    "tokenized = tokenize(ex)\n",
    "\n",
    "model2 = models.Model(\n",
    "    inputs=model.inputs,\n",
    "    outputs=[model.outputs, model.get_layer('tf_op_layer_add_1').output])\n",
    "\n",
    "pred, att_weights = model2(tokenized[np.newaxis, ...])\n",
    "print(\"Softmax output:\")\n",
    "print(pred[0][0, -1, :])\n",
    "print('Argmax token:', VOCABULARY[np.argmax(pred[0][0, -1, :])])\n",
    "\n",
    "print(\"Attention weights:\")\n",
    "plt.plot(att_weights[0, -1, :])"
   ]
  },
  {
   "cell_type": "code",
   "execution_count": 19,
   "metadata": {
    "scrolled": true
   },
   "outputs": [
    {
     "data": {
      "text/plain": [
       "[0.89, 0.9966666666666667]"
      ]
     },
     "execution_count": 19,
     "metadata": {},
     "output_type": "execute_result"
    }
   ],
   "source": []
  },
  {
   "cell_type": "markdown",
   "metadata": {},
   "source": [
    "## Increasing num digits in training data"
   ]
  },
  {
   "cell_type": "code",
   "execution_count": null,
   "metadata": {
    "scrolled": false
   },
   "outputs": [],
   "source": [
    "train_dataset = data(\n",
    "    n_samples=20000,\n",
    "    max_n_digits=10,\n",
    "    seed=0)\n",
    "train_dataset = list(train_dataset)\n",
    "\n",
    "test_dataset = data(\n",
    "    n_samples=100,\n",
    "    max_n_digits=11,\n",
    "    min_n_digits=11,\n",
    "    seed=0)\n",
    "test_dataset = list(test_dataset)\n",
    "\n",
    "accuracy, model = run_experiment(train_dataset, test_dataset, model_type=\"copy\")\n",
    "print(accuracy)"
   ]
  },
  {
   "cell_type": "code",
   "execution_count": null,
   "metadata": {},
   "outputs": [],
   "source": [
    "decode(model, 11111, 22222)"
   ]
  },
  {
   "cell_type": "markdown",
   "metadata": {},
   "source": [
    "## Curriculum learning"
   ]
  },
  {
   "cell_type": "code",
   "execution_count": 28,
   "metadata": {
    "scrolled": false
   },
   "outputs": [
    {
     "name": "stdout",
     "output_type": "stream",
     "text": [
      "Step 100 Loss 0.9228189 Acc 0.6669039\n",
      "Step 200 Loss 0.14846571 Acc 0.97239476\n",
      "Step 300 Loss 0.032110054 Acc 0.99793816\n",
      "Step 400 Loss 0.016788207 Acc 0.99862546\n",
      "Step 500 Loss 0.0063784914 Acc 0.9993202\n",
      "Step 600 Loss 0.002585022 Acc 1.0\n",
      "Step 700 Loss 0.0019667032 Acc 1.0\n",
      "Step 800 Loss 0.0020738817 Acc 1.0\n",
      "Step 900 Loss 0.0025955008 Acc 1.0\n",
      "Step 1000 Loss 0.00086623325 Acc 1.0\n",
      "System1Error in eval: unexpected EOF while parsing (<string>, line 1)\n",
      "Accuracy with max 3 digits, evaluating on 4 digits: 0.02\n"
     ]
    }
   ],
   "source": [
    "model = get_model(model_type=\"copy\")\n",
    "for max_n_digits in [3]: #[2,3,4,6,8]:\n",
    "    train_dataset = data(\n",
    "        n_samples=10000,\n",
    "        max_n_digits=max_n_digits,\n",
    "        seed=0)\n",
    "    train_dataset = list(train_dataset)\n",
    "\n",
    "    test_dataset = data(\n",
    "        n_samples=100,\n",
    "        max_n_digits=max_n_digits+1,\n",
    "        min_n_digits=max_n_digits+1,\n",
    "        seed=0)\n",
    "    test_dataset = list(test_dataset)\n",
    "\n",
    "    accuracy, _ = run_experiment(train_dataset, test_dataset, model)\n",
    "    print(\"Accuracy with max {} digits, evaluating on {} digits: {}\".format(max_n_digits, max_n_digits + 1, \n",
    "                                                                            accuracy))"
   ]
  },
  {
   "cell_type": "code",
   "execution_count": 47,
   "metadata": {},
   "outputs": [
    {
     "name": "stdout",
     "output_type": "stream",
     "text": [
      "097942384+086378036Q0+4+6E10Q1+8+3E12Q1+3+0E04Q0+2+8E10Q1+4+7E12Q1+9+3E13Q1+7+6E14Q1+9+8E18Q1+0+0E01F184320420!\n"
     ]
    }
   ],
   "source": [
    "n_correct = 0\n",
    "for example in test_dataset:\n",
    "    i = example.index('Q')\n",
    "    ab = example[:i]\n",
    "    i = ab.index('+')\n",
    "    a = int(ab[:i])\n",
    "    b = int(ab[i:])\n",
    "\n",
    "    try:\n",
    "        ans = decode(model, a, b)\n",
    "        i = ans.index('F')\n",
    "        ans = ans[i+1:-1]\n",
    "        ans = int(ans)\n",
    "        if ans == a + b:\n",
    "            n_correct += 1\n",
    "            print(example)\n",
    "    except ValueError as err:\n",
    "        print(\"ValueError in eval:\", err)\n",
    "    except System1Error as err:\n",
    "        print(\"System1Error in eval:\", err)"
   ]
  },
  {
   "cell_type": "code",
   "execution_count": 16,
   "metadata": {},
   "outputs": [
    {
     "name": "stdout",
     "output_type": "stream",
     "text": [
      "123+12300+3+0+3E06Q0+3+2E05Q0+1+1E02F256!\n"
     ]
    }
   ],
   "source": [
    "print(decode(model, 123, 123))"
   ]
  },
  {
   "cell_type": "markdown",
   "metadata": {},
   "source": [
    "## Model inspection"
   ]
  },
  {
   "cell_type": "code",
   "execution_count": 29,
   "metadata": {},
   "outputs": [],
   "source": [
    "def colorize(chars, alpha):\n",
    "    return \"\".join([f\"<span style='color: rgba(0, 0, 0, {p * 2/3 + 1/3})'>{char}</span>\" \n",
    "                    for char, p in zip(chars, alpha)])"
   ]
  },
  {
   "cell_type": "code",
   "execution_count": 30,
   "metadata": {},
   "outputs": [
    {
     "data": {
      "text/plain": [
       "'123+123Q0+3+3E06Q0+2+2E04Q0+1+1E02F246!'"
      ]
     },
     "execution_count": 30,
     "metadata": {},
     "output_type": "execute_result"
    }
   ],
   "source": [
    "decode(model, 123, 123)"
   ]
  },
  {
   "cell_type": "code",
   "execution_count": 31,
   "metadata": {},
   "outputs": [],
   "source": [
    "model2 = models.Model(\n",
    "    inputs=model.inputs,\n",
    "    outputs=[model.outputs, \n",
    "             model.get_layer('tf_op_layer_add_1').output, \n",
    "             model.get_layer('tf_op_layer_attention_weights').output,\n",
    "             model.get_layer('dense_2').output,\n",
    "             model.get_layer('tf_op_layer_transpose_2').output,\n",
    "             model.get_layer('dense_1').output\n",
    "            ])\n",
    "\n",
    "decode_stepper = decode_generator(model, 123, 123)"
   ]
  },
  {
   "cell_type": "code",
   "execution_count": 42,
   "metadata": {},
   "outputs": [
    {
     "name": "stdout",
     "output_type": "stream",
     "text": [
      "Problem:\n",
      "123+123Q0+3+3E06Q0\n",
      "\n",
      "Predicted next token: +\n",
      "p_gen for next token: 5.9337729396702343e-08\n",
      "Attention for next token:\n"
     ]
    },
    {
     "data": {
      "text/markdown": [
       "<span style='color: rgba(0, 0, 0, 0.3333333427487298)'>1</span><span style='color: rgba(0, 0, 0, 0.33333366264203806)'>2</span><span style='color: rgba(0, 0, 0, 0.33333333335329324)'>3</span><span style='color: rgba(0, 0, 0, 0.33333334484957666)'>+</span><span style='color: rgba(0, 0, 0, 0.33333333333726006)'>1</span><span style='color: rgba(0, 0, 0, 0.3333333333333406)'>2</span><span style='color: rgba(0, 0, 0, 0.3333333333333333)'>3</span><span style='color: rgba(0, 0, 0, 0.3333333333333333)'>Q</span><span style='color: rgba(0, 0, 0, 0.33333333333334425)'>0</span><span style='color: rgba(0, 0, 0, 0.35772896806399024)'>+</span><span style='color: rgba(0, 0, 0, 0.3333333334609808)'>3</span><span style='color: rgba(0, 0, 0, 0.9755865732828777)'>+</span><span style='color: rgba(0, 0, 0, 0.33333333490552886)'>3</span><span style='color: rgba(0, 0, 0, 0.3333333440062015)'>E</span><span style='color: rgba(0, 0, 0, 0.3333507597041413)'>0</span><span style='color: rgba(0, 0, 0, 0.3333333663019573)'>6</span><span style='color: rgba(0, 0, 0, 0.33333333333333487)'>Q</span><span style='color: rgba(0, 0, 0, 0.333333333333336)'>0</span>"
      ],
      "text/plain": [
       "<IPython.core.display.Markdown object>"
      ]
     },
     "metadata": {},
     "output_type": "display_data"
    },
    {
     "name": "stdout",
     "output_type": "stream",
     "text": [
      "Historical p_gen\n"
     ]
    },
    {
     "data": {
      "text/markdown": [
       "1<span style='color: rgba(0, 0, 0, 0.9998656511306763)'>2</span><span style='color: rgba(0, 0, 0, 1.0)'>3</span><span style='color: rgba(0, 0, 0, 1.0)'>+</span><span style='color: rgba(0, 0, 0, 0.9902739524841309)'>1</span><span style='color: rgba(0, 0, 0, 1.0)'>2</span><span style='color: rgba(0, 0, 0, 1.0)'>3</span><span style='color: rgba(0, 0, 0, 1.0)'>Q</span><span style='color: rgba(0, 0, 0, 0.9995369116465251)'>0</span><span style='color: rgba(0, 0, 0, 0.33340323024701013)'>+</span><span style='color: rgba(0, 0, 0, 0.3333333333451598)'>3</span><span style='color: rgba(0, 0, 0, 0.33334400467113784)'>+</span><span style='color: rgba(0, 0, 0, 0.3333395873875512)'>3</span><span style='color: rgba(0, 0, 0, 0.9999945163726807)'>E</span><span style='color: rgba(0, 0, 0, 1.0)'>0</span><span style='color: rgba(0, 0, 0, 1.0)'>6</span><span style='color: rgba(0, 0, 0, 0.9999974568684895)'>Q</span><span style='color: rgba(0, 0, 0, 0.33338646919097903)'>0</span>"
      ],
      "text/plain": [
       "<IPython.core.display.Markdown object>"
      ]
     },
     "metadata": {},
     "output_type": "display_data"
    },
    {
     "name": "stdout",
     "output_type": "stream",
     "text": [
      "Weighted copy and gen distributions (over vocabulary)\n"
     ]
    },
    {
     "data": {
      "image/png": "[encoded data removed]",
      "text/plain": [
       "<Figure size 432x288 with 1 Axes>"
      ]
     },
     "metadata": {
      "needs_background": "light"
     },
     "output_type": "display_data"
    }
   ],
   "source": [
    "ex = next(decode_stepper)\n",
    "print(\"Problem:\")\n",
    "print(ex)\n",
    "\n",
    "# Tokenize and predict next token\n",
    "tokenized = tokenize(ex)\n",
    "pred, output_prob, att_weights, p_gen, copy_dist, gen_dist = model2(tokenized[np.newaxis, ...], training=False)\n",
    "\n",
    "# Print info about model prediction\n",
    "print()\n",
    "print(f\"Predicted next token: {VOCABULARY[np.argmax(pred[0][0, -1, :])]}\")\n",
    "\n",
    "last_p_gen = p_gen[0, -1, :][0]\n",
    "print(f\"p_gen for next token: {last_p_gen}\")\n",
    "print(\"Attention for next token:\")\n",
    "display(Markdown(colorize(ex, att_weights[0, -1, :].numpy())))\n",
    "\n",
    "print(\"Historical p_gen\")\n",
    "display(Markdown(ex[0] + colorize(ex[1:], p_gen[0, :-1, 0].numpy())))\n",
    "\n",
    "print(\"Weighted copy and gen distributions (over vocabulary)\")\n",
    "plt.figure()\n",
    "plt.plot(copy_dist[0, -1, :] * (1 - last_p_gen))\n",
    "plt.plot(gen_dist[0, -1, :] * last_p_gen)\n",
    "plt.xticks(range(16), VOCABULARY)\n",
    "_ = plt.legend([\"copy dist\", \"gen dist\"])"
   ]
  },
  {
   "cell_type": "code",
   "execution_count": 182,
   "metadata": {},
   "outputs": [],
   "source": [
    "i = decode_generator(model, 123, 123)"
   ]
  },
  {
   "cell_type": "code",
   "execution_count": 178,
   "metadata": {},
   "outputs": [
    {
     "data": {
      "text/plain": [
       "'123+123Q0+3+3E06Q0+2+2E'"
      ]
     },
     "execution_count": 178,
     "metadata": {},
     "output_type": "execute_result"
    }
   ],
   "source": [
    "next(i)"
   ]
  },
  {
   "cell_type": "code",
   "execution_count": null,
   "metadata": {},
   "outputs": [],
   "source": []
  },
  {
   "cell_type": "code",
   "execution_count": null,
   "metadata": {},
   "outputs": [],
   "source": []
  }
 ],
 "metadata": {
  "kernelspec": {
   "display_name": "Python 3",
   "language": "python",
   "name": "python3"
  },
  "language_info": {
   "codemirror_mode": {
    "name": "ipython",
    "version": 3
   },
   "file_extension": ".py",
   "mimetype": "text/x-python",
   "name": "python",
   "nbconvert_exporter": "python",
   "pygments_lexer": "ipython3",
   "version": "3.6.9"
  },
  "pycharm": {
   "stem_cell": {
    "cell_type": "raw",
    "metadata": {
     "collapsed": false
    },
    "source": []
   }
  }
 },
 "nbformat": 4,
 "nbformat_minor": 4
}
